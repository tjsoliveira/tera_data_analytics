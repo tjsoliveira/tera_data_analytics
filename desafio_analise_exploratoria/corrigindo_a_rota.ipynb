{
 "cells": [
  {
   "cell_type": "code",
   "execution_count": 1,
   "metadata": {},
   "outputs": [],
   "source": [
    "import pandas as pd\n",
    "import numpy as np\n",
    "import seaborn as sns\n",
    "from matplotlib import pyplot as plt"
   ]
  },
  {
   "cell_type": "code",
   "execution_count": 2,
   "metadata": {},
   "outputs": [],
   "source": [
    "d1 = pd.read_csv('dataset2.csv', sep=',', encoding='windows-1252')"
   ]
  },
  {
   "cell_type": "code",
   "execution_count": 3,
   "metadata": {},
   "outputs": [
    {
     "data": {
      "text/html": [
       "<div>\n",
       "<style scoped>\n",
       "    .dataframe tbody tr th:only-of-type {\n",
       "        vertical-align: middle;\n",
       "    }\n",
       "\n",
       "    .dataframe tbody tr th {\n",
       "        vertical-align: top;\n",
       "    }\n",
       "\n",
       "    .dataframe thead th {\n",
       "        text-align: right;\n",
       "    }\n",
       "</style>\n",
       "<table border=\"1\" class=\"dataframe\">\n",
       "  <thead>\n",
       "    <tr style=\"text-align: right;\">\n",
       "      <th></th>\n",
       "      <th>Id</th>\n",
       "      <th>Name</th>\n",
       "      <th>Platform</th>\n",
       "      <th>Year_of_Release</th>\n",
       "      <th>Genre</th>\n",
       "      <th>Publisher</th>\n",
       "      <th>NA_Sales</th>\n",
       "      <th>EU_Sales</th>\n",
       "      <th>JP_Sales</th>\n",
       "      <th>Other_Sales</th>\n",
       "      <th>Global_Sales</th>\n",
       "    </tr>\n",
       "  </thead>\n",
       "  <tbody>\n",
       "    <tr>\n",
       "      <th>0</th>\n",
       "      <td>1</td>\n",
       "      <td>Wii Sports</td>\n",
       "      <td>Wii</td>\n",
       "      <td>2006.0</td>\n",
       "      <td>Sports</td>\n",
       "      <td>Nintendo</td>\n",
       "      <td>41.36</td>\n",
       "      <td>28.96</td>\n",
       "      <td>3.77</td>\n",
       "      <td>8.45</td>\n",
       "      <td>82.53</td>\n",
       "    </tr>\n",
       "    <tr>\n",
       "      <th>1</th>\n",
       "      <td>2</td>\n",
       "      <td>Super Mario Bros.</td>\n",
       "      <td>NES</td>\n",
       "      <td>1985.0</td>\n",
       "      <td>Platform</td>\n",
       "      <td>Nintendo</td>\n",
       "      <td>29.08</td>\n",
       "      <td>3.58</td>\n",
       "      <td>6.81</td>\n",
       "      <td>0.77</td>\n",
       "      <td>40.24</td>\n",
       "    </tr>\n",
       "    <tr>\n",
       "      <th>2</th>\n",
       "      <td>3</td>\n",
       "      <td>Mario Kart Wii</td>\n",
       "      <td>Wii</td>\n",
       "      <td>2008.0</td>\n",
       "      <td>Racing</td>\n",
       "      <td>Nintendo</td>\n",
       "      <td>15.68</td>\n",
       "      <td>12.76</td>\n",
       "      <td>3.79</td>\n",
       "      <td>3.29</td>\n",
       "      <td>35.52</td>\n",
       "    </tr>\n",
       "    <tr>\n",
       "      <th>3</th>\n",
       "      <td>4</td>\n",
       "      <td>Wii Sports Resort</td>\n",
       "      <td>Wii</td>\n",
       "      <td>2009.0</td>\n",
       "      <td>Sports</td>\n",
       "      <td>Nintendo</td>\n",
       "      <td>15.61</td>\n",
       "      <td>10.93</td>\n",
       "      <td>3.28</td>\n",
       "      <td>2.95</td>\n",
       "      <td>32.77</td>\n",
       "    </tr>\n",
       "    <tr>\n",
       "      <th>4</th>\n",
       "      <td>5</td>\n",
       "      <td>Pokemon Red/Pokemon Blue</td>\n",
       "      <td>GB</td>\n",
       "      <td>1996.0</td>\n",
       "      <td>Role-Playing</td>\n",
       "      <td>Nintendo</td>\n",
       "      <td>11.27</td>\n",
       "      <td>8.89</td>\n",
       "      <td>10.22</td>\n",
       "      <td>1.00</td>\n",
       "      <td>31.37</td>\n",
       "    </tr>\n",
       "    <tr>\n",
       "      <th>...</th>\n",
       "      <td>...</td>\n",
       "      <td>...</td>\n",
       "      <td>...</td>\n",
       "      <td>...</td>\n",
       "      <td>...</td>\n",
       "      <td>...</td>\n",
       "      <td>...</td>\n",
       "      <td>...</td>\n",
       "      <td>...</td>\n",
       "      <td>...</td>\n",
       "      <td>...</td>\n",
       "    </tr>\n",
       "    <tr>\n",
       "      <th>16714</th>\n",
       "      <td>16715</td>\n",
       "      <td>Samurai Warriors: Sanada Maru</td>\n",
       "      <td>PS3</td>\n",
       "      <td>2016.0</td>\n",
       "      <td>Action</td>\n",
       "      <td>Tecmo Koei</td>\n",
       "      <td>0.00</td>\n",
       "      <td>0.00</td>\n",
       "      <td>0.01</td>\n",
       "      <td>0.00</td>\n",
       "      <td>0.01</td>\n",
       "    </tr>\n",
       "    <tr>\n",
       "      <th>16715</th>\n",
       "      <td>16716</td>\n",
       "      <td>LMA Manager 2007</td>\n",
       "      <td>X360</td>\n",
       "      <td>2006.0</td>\n",
       "      <td>Sports</td>\n",
       "      <td>Codemasters</td>\n",
       "      <td>0.00</td>\n",
       "      <td>0.01</td>\n",
       "      <td>0.00</td>\n",
       "      <td>0.00</td>\n",
       "      <td>0.01</td>\n",
       "    </tr>\n",
       "    <tr>\n",
       "      <th>16716</th>\n",
       "      <td>16717</td>\n",
       "      <td>Haitaka no Psychedelica</td>\n",
       "      <td>PSV</td>\n",
       "      <td>2016.0</td>\n",
       "      <td>Adventure</td>\n",
       "      <td>Idea Factory</td>\n",
       "      <td>0.00</td>\n",
       "      <td>0.00</td>\n",
       "      <td>0.01</td>\n",
       "      <td>0.00</td>\n",
       "      <td>0.01</td>\n",
       "    </tr>\n",
       "    <tr>\n",
       "      <th>16717</th>\n",
       "      <td>16718</td>\n",
       "      <td>Spirits &amp; Spells</td>\n",
       "      <td>GBA</td>\n",
       "      <td>2003.0</td>\n",
       "      <td>Platform</td>\n",
       "      <td>Wanadoo</td>\n",
       "      <td>0.01</td>\n",
       "      <td>0.00</td>\n",
       "      <td>0.00</td>\n",
       "      <td>0.00</td>\n",
       "      <td>0.01</td>\n",
       "    </tr>\n",
       "    <tr>\n",
       "      <th>16718</th>\n",
       "      <td>16719</td>\n",
       "      <td>Winning Post 8 2016</td>\n",
       "      <td>PSV</td>\n",
       "      <td>2016.0</td>\n",
       "      <td>Simulation</td>\n",
       "      <td>Tecmo Koei</td>\n",
       "      <td>0.00</td>\n",
       "      <td>0.00</td>\n",
       "      <td>0.01</td>\n",
       "      <td>0.00</td>\n",
       "      <td>0.01</td>\n",
       "    </tr>\n",
       "  </tbody>\n",
       "</table>\n",
       "<p>16719 rows × 11 columns</p>\n",
       "</div>"
      ],
      "text/plain": [
       "          Id                           Name Platform  Year_of_Release  \\\n",
       "0          1                     Wii Sports      Wii           2006.0   \n",
       "1          2              Super Mario Bros.      NES           1985.0   \n",
       "2          3                 Mario Kart Wii      Wii           2008.0   \n",
       "3          4              Wii Sports Resort      Wii           2009.0   \n",
       "4          5       Pokemon Red/Pokemon Blue       GB           1996.0   \n",
       "...      ...                            ...      ...              ...   \n",
       "16714  16715  Samurai Warriors: Sanada Maru      PS3           2016.0   \n",
       "16715  16716               LMA Manager 2007     X360           2006.0   \n",
       "16716  16717        Haitaka no Psychedelica      PSV           2016.0   \n",
       "16717  16718               Spirits & Spells      GBA           2003.0   \n",
       "16718  16719            Winning Post 8 2016      PSV           2016.0   \n",
       "\n",
       "              Genre     Publisher  NA_Sales  EU_Sales  JP_Sales  Other_Sales  \\\n",
       "0            Sports      Nintendo     41.36     28.96      3.77         8.45   \n",
       "1          Platform      Nintendo     29.08      3.58      6.81         0.77   \n",
       "2            Racing      Nintendo     15.68     12.76      3.79         3.29   \n",
       "3            Sports      Nintendo     15.61     10.93      3.28         2.95   \n",
       "4      Role-Playing      Nintendo     11.27      8.89     10.22         1.00   \n",
       "...             ...           ...       ...       ...       ...          ...   \n",
       "16714        Action    Tecmo Koei      0.00      0.00      0.01         0.00   \n",
       "16715        Sports   Codemasters      0.00      0.01      0.00         0.00   \n",
       "16716     Adventure  Idea Factory      0.00      0.00      0.01         0.00   \n",
       "16717      Platform       Wanadoo      0.01      0.00      0.00         0.00   \n",
       "16718    Simulation    Tecmo Koei      0.00      0.00      0.01         0.00   \n",
       "\n",
       "       Global_Sales  \n",
       "0             82.53  \n",
       "1             40.24  \n",
       "2             35.52  \n",
       "3             32.77  \n",
       "4             31.37  \n",
       "...             ...  \n",
       "16714          0.01  \n",
       "16715          0.01  \n",
       "16716          0.01  \n",
       "16717          0.01  \n",
       "16718          0.01  \n",
       "\n",
       "[16719 rows x 11 columns]"
      ]
     },
     "execution_count": 3,
     "metadata": {},
     "output_type": "execute_result"
    }
   ],
   "source": [
    "# a. Quantas linhas e quantas colunas esse dataset possui?\n",
    "d1"
   ]
  },
  {
   "cell_type": "code",
   "execution_count": 4,
   "metadata": {},
   "outputs": [
    {
     "data": {
      "text/plain": [
       "Id                   int64\n",
       "Name                object\n",
       "Platform            object\n",
       "Year_of_Release    float64\n",
       "Genre               object\n",
       "Publisher           object\n",
       "NA_Sales           float64\n",
       "EU_Sales           float64\n",
       "JP_Sales           float64\n",
       "Other_Sales        float64\n",
       "Global_Sales       float64\n",
       "dtype: object"
      ]
     },
     "execution_count": 4,
     "metadata": {},
     "output_type": "execute_result"
    }
   ],
   "source": [
    "# b. Faça um dicionário das colunas contendo o nome da coluna, o tipo do dado, e seu significado.\n",
    "d1.dtypes"
   ]
  },
  {
   "cell_type": "markdown",
   "metadata": {},
   "source": [
    "## 02. Validação de dados e entendimento das variáveis"
   ]
  },
  {
   "cell_type": "markdown",
   "metadata": {},
   "source": [
    "a. Quantos registros faltantes (dados nulos) por coluna?"
   ]
  },
  {
   "cell_type": "code",
   "execution_count": 5,
   "metadata": {},
   "outputs": [
    {
     "data": {
      "text/plain": [
       "Id                   0\n",
       "Name                 2\n",
       "Platform             0\n",
       "Year_of_Release    269\n",
       "Genre                2\n",
       "Publisher           54\n",
       "NA_Sales             0\n",
       "EU_Sales             0\n",
       "JP_Sales             0\n",
       "Other_Sales          0\n",
       "Global_Sales         0\n",
       "dtype: int64"
      ]
     },
     "execution_count": 5,
     "metadata": {},
     "output_type": "execute_result"
    }
   ],
   "source": [
    "d1.isnull().sum(axis = 0)"
   ]
  },
  {
   "cell_type": "markdown",
   "metadata": {},
   "source": [
    "b. Avalie a unicidade dos dados. Há duplicatas de linhas?"
   ]
  },
  {
   "cell_type": "code",
   "execution_count": 6,
   "metadata": {},
   "outputs": [
    {
     "data": {
      "text/html": [
       "<div>\n",
       "<style scoped>\n",
       "    .dataframe tbody tr th:only-of-type {\n",
       "        vertical-align: middle;\n",
       "    }\n",
       "\n",
       "    .dataframe tbody tr th {\n",
       "        vertical-align: top;\n",
       "    }\n",
       "\n",
       "    .dataframe thead th {\n",
       "        text-align: right;\n",
       "    }\n",
       "</style>\n",
       "<table border=\"1\" class=\"dataframe\">\n",
       "  <thead>\n",
       "    <tr style=\"text-align: right;\">\n",
       "      <th></th>\n",
       "      <th>Id</th>\n",
       "      <th>Name</th>\n",
       "      <th>Platform</th>\n",
       "      <th>Year_of_Release</th>\n",
       "      <th>Genre</th>\n",
       "      <th>Publisher</th>\n",
       "      <th>NA_Sales</th>\n",
       "      <th>EU_Sales</th>\n",
       "      <th>JP_Sales</th>\n",
       "      <th>Other_Sales</th>\n",
       "      <th>Global_Sales</th>\n",
       "    </tr>\n",
       "  </thead>\n",
       "  <tbody>\n",
       "  </tbody>\n",
       "</table>\n",
       "</div>"
      ],
      "text/plain": [
       "Empty DataFrame\n",
       "Columns: [Id, Name, Platform, Year_of_Release, Genre, Publisher, NA_Sales, EU_Sales, JP_Sales, Other_Sales, Global_Sales]\n",
       "Index: []"
      ]
     },
     "execution_count": 6,
     "metadata": {},
     "output_type": "execute_result"
    }
   ],
   "source": [
    "d1[d1['Id'].isin(d1['Id'][d1.duplicated()])].sort_values(by='Id', ascending=True)"
   ]
  },
  {
   "cell_type": "markdown",
   "metadata": {},
   "source": [
    "c. Há algum problema com os tipos das variáveis?"
   ]
  },
  {
   "cell_type": "markdown",
   "metadata": {},
   "source": [
    "Campos Númericos com vírgula ao invés de ponto"
   ]
  },
  {
   "cell_type": "code",
   "execution_count": 8,
   "metadata": {},
   "outputs": [
    {
     "data": {
      "text/html": [
       "<div>\n",
       "<style scoped>\n",
       "    .dataframe tbody tr th:only-of-type {\n",
       "        vertical-align: middle;\n",
       "    }\n",
       "\n",
       "    .dataframe tbody tr th {\n",
       "        vertical-align: top;\n",
       "    }\n",
       "\n",
       "    .dataframe thead th {\n",
       "        text-align: right;\n",
       "    }\n",
       "</style>\n",
       "<table border=\"1\" class=\"dataframe\">\n",
       "  <thead>\n",
       "    <tr style=\"text-align: right;\">\n",
       "      <th></th>\n",
       "      <th>Id</th>\n",
       "      <th>Name</th>\n",
       "      <th>Platform</th>\n",
       "      <th>Year_of_Release</th>\n",
       "      <th>Genre</th>\n",
       "      <th>Publisher</th>\n",
       "      <th>NA_Sales</th>\n",
       "      <th>EU_Sales</th>\n",
       "      <th>JP_Sales</th>\n",
       "      <th>Other_Sales</th>\n",
       "      <th>Global_Sales</th>\n",
       "    </tr>\n",
       "  </thead>\n",
       "  <tbody>\n",
       "    <tr>\n",
       "      <th>4</th>\n",
       "      <td>5</td>\n",
       "      <td>Pokemon Red/Pokemon Blue</td>\n",
       "      <td>GB</td>\n",
       "      <td>1996</td>\n",
       "      <td>Role-Playing</td>\n",
       "      <td>Nintendo</td>\n",
       "      <td>11.27</td>\n",
       "      <td>8.89</td>\n",
       "      <td>10.22</td>\n",
       "      <td>1,0</td>\n",
       "      <td>31.37</td>\n",
       "    </tr>\n",
       "    <tr>\n",
       "      <th>12</th>\n",
       "      <td>13</td>\n",
       "      <td>Pokemon Gold/Pokemon Silver</td>\n",
       "      <td>GB</td>\n",
       "      <td>1999</td>\n",
       "      <td>Role-Playing</td>\n",
       "      <td>Nintendo</td>\n",
       "      <td>9,0</td>\n",
       "      <td>6.18</td>\n",
       "      <td>7.2</td>\n",
       "      <td>0.71</td>\n",
       "      <td>23.1</td>\n",
       "    </tr>\n",
       "    <tr>\n",
       "      <th>15</th>\n",
       "      <td>16</td>\n",
       "      <td>Wii Fit Plus</td>\n",
       "      <td>NaN</td>\n",
       "      <td>2009</td>\n",
       "      <td>Sports</td>\n",
       "      <td>Nintendo</td>\n",
       "      <td>9.01</td>\n",
       "      <td>8.49</td>\n",
       "      <td>2.53</td>\n",
       "      <td>1.77</td>\n",
       "      <td>21,79</td>\n",
       "    </tr>\n",
       "    <tr>\n",
       "      <th>54</th>\n",
       "      <td>54</td>\n",
       "      <td>Super Mario 3D Land</td>\n",
       "      <td>3DS</td>\n",
       "      <td>2011</td>\n",
       "      <td>Platform</td>\n",
       "      <td>Nintendo</td>\n",
       "      <td>4.89</td>\n",
       "      <td>3,0</td>\n",
       "      <td>2.14</td>\n",
       "      <td>0.78</td>\n",
       "      <td>10.81</td>\n",
       "    </tr>\n",
       "    <tr>\n",
       "      <th>73</th>\n",
       "      <td>72</td>\n",
       "      <td>Donkey Kong Country</td>\n",
       "      <td>SNES</td>\n",
       "      <td>1994</td>\n",
       "      <td>Platform</td>\n",
       "      <td>Nintendo</td>\n",
       "      <td>4.36</td>\n",
       "      <td>1.71</td>\n",
       "      <td>3,0</td>\n",
       "      <td>0.23</td>\n",
       "      <td>9.3</td>\n",
       "    </tr>\n",
       "  </tbody>\n",
       "</table>\n",
       "</div>"
      ],
      "text/plain": [
       "    Id                         Name Platform Year_of_Release         Genre  \\\n",
       "4    5     Pokemon Red/Pokemon Blue       GB            1996  Role-Playing   \n",
       "12  13  Pokemon Gold/Pokemon Silver       GB            1999  Role-Playing   \n",
       "15  16                 Wii Fit Plus      NaN            2009        Sports   \n",
       "54  54          Super Mario 3D Land      3DS            2011      Platform   \n",
       "73  72          Donkey Kong Country     SNES            1994      Platform   \n",
       "\n",
       "   Publisher NA_Sales EU_Sales JP_Sales Other_Sales Global_Sales  \n",
       "4   Nintendo    11.27     8.89    10.22         1,0        31.37  \n",
       "12  Nintendo      9,0     6.18      7.2        0.71         23.1  \n",
       "15  Nintendo     9.01     8.49     2.53        1.77        21,79  \n",
       "54  Nintendo     4.89      3,0     2.14        0.78        10.81  \n",
       "73  Nintendo     4.36     1.71      3,0        0.23          9.3  "
      ]
     },
     "execution_count": 8,
     "metadata": {},
     "output_type": "execute_result"
    }
   ],
   "source": [
    "d1[(d1['NA_Sales'] == '9,0') | (d1['EU_Sales'] == '3,0') | (d1['JP_Sales'] == '3,0') | (d1['Other_Sales'] == '1,0')| (d1['Global_Sales'] == '21,79')]"
   ]
  },
  {
   "cell_type": "markdown",
   "metadata": {},
   "source": [
    "d. Descreva o conteúdo de cada coluna, se atentando ao tipo de variável"
   ]
  },
  {
   "cell_type": "markdown",
   "metadata": {},
   "source": [
    "Categóricas"
   ]
  },
  {
   "cell_type": "code",
   "execution_count": 10,
   "metadata": {},
   "outputs": [
    {
     "name": "stdout",
     "output_type": "stream",
     "text": [
      "count                           16717\n",
      "unique                          11562\n",
      "top       Need for Speed: Most Wanted\n",
      "freq                               12\n",
      "Name: Name, dtype: object\n",
      "\n",
      "\n",
      "count     16719\n",
      "unique       31\n",
      "top         PS2\n",
      "freq       2161\n",
      "Name: Platform, dtype: object\n",
      "\n",
      "\n",
      "count      16717\n",
      "unique        12\n",
      "top       Action\n",
      "freq        3370\n",
      "Name: Genre, dtype: object\n",
      "\n",
      "\n",
      "count               16665\n",
      "unique                581\n",
      "top       Electronic Arts\n",
      "freq                 1356\n",
      "Name: Publisher, dtype: object\n",
      "\n",
      "\n"
     ]
    }
   ],
   "source": [
    "# Id, Name, Platform, Genre, Publisher\n",
    "for col in d1[['Name', 'Platform', 'Genre', 'Publisher']].columns:\n",
    "    print(d1[col].describe())\n",
    "    print('\\n')"
   ]
  },
  {
   "cell_type": "code",
   "execution_count": 11,
   "metadata": {},
   "outputs": [
    {
     "name": "stdout",
     "output_type": "stream",
     "text": [
      "Year_of_Release\n",
      " Min: 1980.0\n",
      " Max: 2020.0\n",
      " Média: 2006.49\n",
      " Desvio Padrão: 5.88\n",
      " Mediana: 2007.0\n",
      " P25: 2003.0\n",
      " P75: 2010.0\n",
      "\n"
     ]
    }
   ],
   "source": [
    "print('{}\\n Min: {}\\n Max: {}\\n Média: {}\\n Desvio Padrão: {}\\n Mediana: {}\\n P25: {}\\n P75: {}\\n'.format(\n",
    "        'Year_of_Release', d1['Year_of_Release'].min(), d1['Year_of_Release'].max(), round(d1['Year_of_Release'].mean(), 2), round(d1['Year_of_Release'].std(), 2), d1['Year_of_Release'].median(), d1['Year_of_Release'].quantile(0.25), d1['Year_of_Release'].quantile(0.75)))"
   ]
  },
  {
   "cell_type": "code",
   "execution_count": 12,
   "metadata": {},
   "outputs": [
    {
     "name": "stdout",
     "output_type": "stream",
     "text": [
      "NA_Sales\n",
      " Min: 0.0\n",
      " Max: 41.36\n",
      " Média: 0.26\n",
      " Desvio Padrão: 0.81\n",
      " Mediana: 0.08\n",
      " P25: 0.0\n",
      " P75: 0.24\n",
      "\n"
     ]
    }
   ],
   "source": [
    "print('{}\\n Min: {}\\n Max: {}\\n Média: {}\\n Desvio Padrão: {}\\n Mediana: {}\\n P25: {}\\n P75: {}\\n'.format(\n",
    "        'NA_Sales', d1['NA_Sales'].min(), d1['NA_Sales'].max(), round(d1['NA_Sales'].mean(), 2), \n",
    "        round(d1['NA_Sales'].std(), 2), d1['NA_Sales'].median(), d1['NA_Sales'].quantile(0.25), d1['NA_Sales'].quantile(0.75)))"
   ]
  },
  {
   "cell_type": "code",
   "execution_count": 13,
   "metadata": {},
   "outputs": [
    {
     "name": "stdout",
     "output_type": "stream",
     "text": [
      "EU_Sales\n",
      " Min: 0.0\n",
      " Max: 28.96\n",
      " Média: 0.15\n",
      " Desvio Padrão: 0.5\n",
      " Mediana: 0.02\n",
      " P25: 0.0\n",
      " P75: 0.11\n",
      "\n"
     ]
    }
   ],
   "source": [
    "print('{}\\n Min: {}\\n Max: {}\\n Média: {}\\n Desvio Padrão: {}\\n Mediana: {}\\n P25: {}\\n P75: {}\\n'.format(\n",
    "        'EU_Sales', d1['EU_Sales'].min(), d1['EU_Sales'].max(), round(d1['EU_Sales'].mean(), 2), \n",
    "        round(d1['EU_Sales'].std(), 2), d1['EU_Sales'].median(), d1['EU_Sales'].quantile(0.25), d1['EU_Sales'].quantile(0.75)))"
   ]
  },
  {
   "cell_type": "code",
   "execution_count": 14,
   "metadata": {},
   "outputs": [
    {
     "name": "stdout",
     "output_type": "stream",
     "text": [
      "JP_Sales\n",
      " Min: 0.0\n",
      " Max: 10.22\n",
      " Média: 0.08\n",
      " Desvio Padrão: 0.31\n",
      " Mediana: 0.0\n",
      " P25: 0.0\n",
      " P75: 0.04\n",
      "\n"
     ]
    }
   ],
   "source": [
    "print('{}\\n Min: {}\\n Max: {}\\n Média: {}\\n Desvio Padrão: {}\\n Mediana: {}\\n P25: {}\\n P75: {}\\n'.format(\n",
    "        'JP_Sales', d1['JP_Sales'].min(), d1['JP_Sales'].max(), round(d1['JP_Sales'].mean(), 2), \n",
    "        round(d1['JP_Sales'].std(), 2), d1['JP_Sales'].median(), d1['JP_Sales'].quantile(0.25), d1['JP_Sales'].quantile(0.75)))"
   ]
  },
  {
   "cell_type": "code",
   "execution_count": 15,
   "metadata": {},
   "outputs": [
    {
     "name": "stdout",
     "output_type": "stream",
     "text": [
      "Other_Sales\n",
      " Min: 0.0\n",
      " Max: 10.57\n",
      " Média: 0.05\n",
      " Desvio Padrão: 0.19\n",
      " Mediana: 0.01\n",
      " P25: 0.0\n",
      " P75: 0.03\n",
      "\n"
     ]
    }
   ],
   "source": [
    "print('{}\\n Min: {}\\n Max: {}\\n Média: {}\\n Desvio Padrão: {}\\n Mediana: {}\\n P25: {}\\n P75: {}\\n'.format(\n",
    "        'Other_Sales', d1['Other_Sales'].min(), d1['Other_Sales'].max(), round(d1['Other_Sales'].mean(), 2), \n",
    "        round(d1['Other_Sales'].std(), 2), d1['Other_Sales'].median(), d1['Other_Sales'].quantile(0.25), d1['Other_Sales'].quantile(0.75)))"
   ]
  },
  {
   "cell_type": "code",
   "execution_count": 16,
   "metadata": {},
   "outputs": [
    {
     "name": "stdout",
     "output_type": "stream",
     "text": [
      "Global_Sales\n",
      " Min: 0.01\n",
      " Max: 82.53\n",
      " Média: 0.53\n",
      " Desvio Padrão: 1.55\n",
      " Mediana: 0.17\n",
      " P25: 0.06\n",
      " P75: 0.47\n",
      "\n"
     ]
    }
   ],
   "source": [
    "print('{}\\n Min: {}\\n Max: {}\\n Média: {}\\n Desvio Padrão: {}\\n Mediana: {}\\n P25: {}\\n P75: {}\\n'.format(\n",
    "        'Global_Sales', d1['Global_Sales'].min(), d1['Global_Sales'].max(), round(d1['Global_Sales'].mean(), 2), \n",
    "        round(d1['Global_Sales'].std(), 2), d1['Global_Sales'].median(), d1['Global_Sales'].quantile(0.25), d1['Global_Sales'].quantile(0.75)))"
   ]
  },
  {
   "cell_type": "code",
   "execution_count": 17,
   "metadata": {},
   "outputs": [
    {
     "data": {
      "text/html": [
       "<div>\n",
       "<style scoped>\n",
       "    .dataframe tbody tr th:only-of-type {\n",
       "        vertical-align: middle;\n",
       "    }\n",
       "\n",
       "    .dataframe tbody tr th {\n",
       "        vertical-align: top;\n",
       "    }\n",
       "\n",
       "    .dataframe thead th {\n",
       "        text-align: right;\n",
       "    }\n",
       "</style>\n",
       "<table border=\"1\" class=\"dataframe\">\n",
       "  <thead>\n",
       "    <tr style=\"text-align: right;\">\n",
       "      <th></th>\n",
       "      <th>Year_of_Release</th>\n",
       "      <th>NA_Sales</th>\n",
       "      <th>EU_Sales</th>\n",
       "      <th>JP_Sales</th>\n",
       "      <th>Other_Sales</th>\n",
       "      <th>Global_Sales</th>\n",
       "    </tr>\n",
       "  </thead>\n",
       "  <tbody>\n",
       "    <tr>\n",
       "      <th>0</th>\n",
       "      <td>2006.0</td>\n",
       "      <td>41.36</td>\n",
       "      <td>28.96</td>\n",
       "      <td>3.77</td>\n",
       "      <td>8.45</td>\n",
       "      <td>82.53</td>\n",
       "    </tr>\n",
       "    <tr>\n",
       "      <th>1</th>\n",
       "      <td>1985.0</td>\n",
       "      <td>29.08</td>\n",
       "      <td>3.58</td>\n",
       "      <td>6.81</td>\n",
       "      <td>0.77</td>\n",
       "      <td>40.24</td>\n",
       "    </tr>\n",
       "    <tr>\n",
       "      <th>2</th>\n",
       "      <td>2008.0</td>\n",
       "      <td>15.68</td>\n",
       "      <td>12.76</td>\n",
       "      <td>3.79</td>\n",
       "      <td>3.29</td>\n",
       "      <td>35.52</td>\n",
       "    </tr>\n",
       "    <tr>\n",
       "      <th>3</th>\n",
       "      <td>2009.0</td>\n",
       "      <td>15.61</td>\n",
       "      <td>10.93</td>\n",
       "      <td>3.28</td>\n",
       "      <td>2.95</td>\n",
       "      <td>32.77</td>\n",
       "    </tr>\n",
       "    <tr>\n",
       "      <th>4</th>\n",
       "      <td>1996.0</td>\n",
       "      <td>11.27</td>\n",
       "      <td>8.89</td>\n",
       "      <td>10.22</td>\n",
       "      <td>1.00</td>\n",
       "      <td>31.37</td>\n",
       "    </tr>\n",
       "    <tr>\n",
       "      <th>...</th>\n",
       "      <td>...</td>\n",
       "      <td>...</td>\n",
       "      <td>...</td>\n",
       "      <td>...</td>\n",
       "      <td>...</td>\n",
       "      <td>...</td>\n",
       "    </tr>\n",
       "    <tr>\n",
       "      <th>16714</th>\n",
       "      <td>2016.0</td>\n",
       "      <td>0.00</td>\n",
       "      <td>0.00</td>\n",
       "      <td>0.01</td>\n",
       "      <td>0.00</td>\n",
       "      <td>0.01</td>\n",
       "    </tr>\n",
       "    <tr>\n",
       "      <th>16715</th>\n",
       "      <td>2006.0</td>\n",
       "      <td>0.00</td>\n",
       "      <td>0.01</td>\n",
       "      <td>0.00</td>\n",
       "      <td>0.00</td>\n",
       "      <td>0.01</td>\n",
       "    </tr>\n",
       "    <tr>\n",
       "      <th>16716</th>\n",
       "      <td>2016.0</td>\n",
       "      <td>0.00</td>\n",
       "      <td>0.00</td>\n",
       "      <td>0.01</td>\n",
       "      <td>0.00</td>\n",
       "      <td>0.01</td>\n",
       "    </tr>\n",
       "    <tr>\n",
       "      <th>16717</th>\n",
       "      <td>2003.0</td>\n",
       "      <td>0.01</td>\n",
       "      <td>0.00</td>\n",
       "      <td>0.00</td>\n",
       "      <td>0.00</td>\n",
       "      <td>0.01</td>\n",
       "    </tr>\n",
       "    <tr>\n",
       "      <th>16718</th>\n",
       "      <td>2016.0</td>\n",
       "      <td>0.00</td>\n",
       "      <td>0.00</td>\n",
       "      <td>0.01</td>\n",
       "      <td>0.00</td>\n",
       "      <td>0.01</td>\n",
       "    </tr>\n",
       "  </tbody>\n",
       "</table>\n",
       "<p>16719 rows × 6 columns</p>\n",
       "</div>"
      ],
      "text/plain": [
       "       Year_of_Release  NA_Sales  EU_Sales  JP_Sales  Other_Sales  \\\n",
       "0               2006.0     41.36     28.96      3.77         8.45   \n",
       "1               1985.0     29.08      3.58      6.81         0.77   \n",
       "2               2008.0     15.68     12.76      3.79         3.29   \n",
       "3               2009.0     15.61     10.93      3.28         2.95   \n",
       "4               1996.0     11.27      8.89     10.22         1.00   \n",
       "...                ...       ...       ...       ...          ...   \n",
       "16714           2016.0      0.00      0.00      0.01         0.00   \n",
       "16715           2006.0      0.00      0.01      0.00         0.00   \n",
       "16716           2016.0      0.00      0.00      0.01         0.00   \n",
       "16717           2003.0      0.01      0.00      0.00         0.00   \n",
       "16718           2016.0      0.00      0.00      0.01         0.00   \n",
       "\n",
       "       Global_Sales  \n",
       "0             82.53  \n",
       "1             40.24  \n",
       "2             35.52  \n",
       "3             32.77  \n",
       "4             31.37  \n",
       "...             ...  \n",
       "16714          0.01  \n",
       "16715          0.01  \n",
       "16716          0.01  \n",
       "16717          0.01  \n",
       "16718          0.01  \n",
       "\n",
       "[16719 rows x 6 columns]"
      ]
     },
     "execution_count": 17,
     "metadata": {},
     "output_type": "execute_result"
    }
   ],
   "source": [
    "df = d1[['Year_of_Release', 'NA_Sales', 'EU_Sales', 'JP_Sales', 'Other_Sales', 'Global_Sales']]\n",
    "df"
   ]
  },
  {
   "cell_type": "markdown",
   "metadata": {},
   "source": [
    "f. Como está a distribuição dos dados? Existem valores discrepantes? Descreva o que pode significar."
   ]
  },
  {
   "cell_type": "code",
   "execution_count": 19,
   "metadata": {},
   "outputs": [
    {
     "data": {
      "text/plain": [
       "<AxesSubplot:>"
      ]
     },
     "execution_count": 19,
     "metadata": {},
     "output_type": "execute_result"
    },
    {
     "data": {
      "image/png": "[encoded data removed]",
      "text/plain": [
       "<Figure size 1440x720 with 1 Axes>"
      ]
     },
     "metadata": {
      "needs_background": "light"
     },
     "output_type": "display_data"
    }
   ],
   "source": [
    "df = d1[['Year_of_Release', 'NA_Sales', 'EU_Sales', 'JP_Sales', 'Other_Sales', 'Global_Sales']]\n",
    "plt.figure(figsize=(20, 10))\n",
    "sns.boxplot(data=df, palette='Set2', dodge=True)"
   ]
  },
  {
   "cell_type": "markdown",
   "metadata": {},
   "source": [
    "Provavelmente houve erro na coleta da coluna Year_of_Release, tendo em vista os outliers (inferior e superior)"
   ]
  },
  {
   "cell_type": "code",
   "execution_count": 20,
   "metadata": {},
   "outputs": [],
   "source": [
    "df = d1[['Name', 'Platform', 'Genre', 'Publisher']]"
   ]
  },
  {
   "cell_type": "code",
   "execution_count": 23,
   "metadata": {},
   "outputs": [
    {
     "data": {
      "image/png": "[encoded data removed]",
      "text/plain": [
       "<Figure size 2160x720 with 1 Axes>"
      ]
     },
     "metadata": {
      "needs_background": "light"
     },
     "output_type": "display_data"
    }
   ],
   "source": [
    "plt.figure(figsize=(30, 10))\n",
    "ax = sns.countplot(data=df, \n",
    "                   x='Publisher', \n",
    "                   orient='v',\n",
    "                   order=d1['Publisher'].value_counts().iloc[:10].index)\n",
    "ax.set_title('Quantidade de Jogos por Publisher', fontsize=20)\n",
    "for p in ax.patches:\n",
    "    ax.annotate(f'\\n{p.get_height()}', (p.get_x()+0.2, p.get_height()), ha='center', va='top', color='white', size=18)\n",
    "plt.show()"
   ]
  },
  {
   "cell_type": "code",
   "execution_count": 24,
   "metadata": {},
   "outputs": [
    {
     "data": {
      "image/png": "[encoded data removed]",
      "text/plain": [
       "<Figure size 2160x720 with 1 Axes>"
      ]
     },
     "metadata": {
      "needs_background": "light"
     },
     "output_type": "display_data"
    }
   ],
   "source": [
    "plt.figure(figsize=(30, 10))\n",
    "ax = sns.countplot(data=df, \n",
    "                   x='Platform', \n",
    "                   orient='v',\n",
    "                   order=d1['Platform'].value_counts().iloc[:10].index)\n",
    "ax.set_title('Quantidade de Jogos por Plataforma', fontsize=20)\n",
    "for p in ax.patches:\n",
    "    ax.annotate(f'\\n{p.get_height()}', (p.get_x()+0.2, p.get_height()), ha='center', va='top', color='white', size=18)\n",
    "plt.show()"
   ]
  },
  {
   "cell_type": "markdown",
   "metadata": {},
   "source": [
    "Possíveis erros na coleta dos dados (X3600000 e X360)"
   ]
  },
  {
   "cell_type": "code",
   "execution_count": 25,
   "metadata": {},
   "outputs": [
    {
     "data": {
      "image/png": "[encoded data removed]",
      "text/plain": [
       "<Figure size 2160x720 with 1 Axes>"
      ]
     },
     "metadata": {
      "needs_background": "light"
     },
     "output_type": "display_data"
    }
   ],
   "source": [
    "plt.figure(figsize=(30, 10))\n",
    "ax = sns.countplot(data=df, \n",
    "                   x='Genre', \n",
    "                   orient='v',\n",
    "                   order=d1['Genre'].value_counts().index)\n",
    "ax.set_title('Quantidade de Jogos por Gênero', fontsize=20)\n",
    "for p in ax.patches:\n",
    "    ax.annotate(f'\\n{p.get_height()}', (p.get_x()+0.2, p.get_height()), ha='center', va='top', color='white', size=18)\n",
    "plt.show()"
   ]
  }
 ],
 "metadata": {
  "interpreter": {
   "hash": "d43c4d9830efbe0ad669ab6042eda720beb900b54a7609075555d7ea5b1378e0"
  },
  "kernelspec": {
   "display_name": "Python 3.9.7 ('.venv': venv)",
   "language": "python",
   "name": "python3"
  },
  "language_info": {
   "codemirror_mode": {
    "name": "ipython",
    "version": 3
   },
   "file_extension": ".py",
   "mimetype": "text/x-python",
   "name": "python",
   "nbconvert_exporter": "python",
   "pygments_lexer": "ipython3",
   "version": "3.9.7"
  },
  "orig_nbformat": 4
 },
 "nbformat": 4,
 "nbformat_minor": 2
}
